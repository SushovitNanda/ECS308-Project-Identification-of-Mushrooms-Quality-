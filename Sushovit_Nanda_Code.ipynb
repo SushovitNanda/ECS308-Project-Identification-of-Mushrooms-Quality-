{
 "cells": [
  {
   "cell_type": "markdown",
   "id": "c1bff52e",
   "metadata": {},
   "source": [
    "# ECS 308: Data Science and Machine Learning"
   ]
  },
  {
   "cell_type": "markdown",
   "id": "c9a566b7",
   "metadata": {},
   "source": [
    "# Project 7"
   ]
  },
  {
   "cell_type": "markdown",
   "id": "6d58386a",
   "metadata": {},
   "source": [
    "# Identify the Quality of Mushrooms Using Machine Learning"
   ]
  },
  {
   "cell_type": "markdown",
   "id": "f5d7543c",
   "metadata": {},
   "source": [
    "By"
   ]
  },
  {
   "cell_type": "markdown",
   "id": "1185b632",
   "metadata": {},
   "source": [
    "Sushovit Nanda (21283)"
   ]
  },
  {
   "cell_type": "markdown",
   "id": "80c74485",
   "metadata": {},
   "source": [
    "Instructor"
   ]
  },
  {
   "cell_type": "markdown",
   "id": "be880e6e",
   "metadata": {},
   "source": [
    "Dr. Tanmay Basu"
   ]
  },
  {
   "cell_type": "markdown",
   "id": "6213e2fb",
   "metadata": {},
   "source": [
    "Assistant Professor, IISER Bhopal"
   ]
  },
  {
   "cell_type": "markdown",
   "id": "a0e2dbc3",
   "metadata": {},
   "source": [
    "# Importing the Libraries and the Data"
   ]
  },
  {
   "cell_type": "code",
   "execution_count": 1,
   "id": "da836793",
   "metadata": {},
   "outputs": [],
   "source": [
    "import numpy as np\n",
    "import pandas as pd\n",
    "import warnings\n",
    "mushroom_train_data = pd.read_csv(\"mushroom_trn_data.csv\")\n",
    "mushroom_train_label = pd.read_csv(\"mushroom_trn_class_labels.csv\", names = [\"row\", \"class\"])\n",
    "mushroom_train_label = mushroom_train_label.drop('row', axis = 1)\n",
    "true_test = pd.read_csv(\"mushroom_tst_data.csv\")\n",
    "warnings.filterwarnings(\"ignore\")"
   ]
  },
  {
   "cell_type": "markdown",
   "id": "1de845d7",
   "metadata": {},
   "source": [
    "# Data Visualization"
   ]
  },
  {
   "cell_type": "code",
   "execution_count": 2,
   "id": "da5172c2",
   "metadata": {
    "scrolled": false
   },
   "outputs": [
    {
     "name": "stdout",
     "output_type": "stream",
     "text": [
      "shape of the train data is  (7311, 22)\n",
      "Description of Train Data\n",
      "\n"
     ]
    },
    {
     "data": {
      "text/html": [
       "<div>\n",
       "<style scoped>\n",
       "    .dataframe tbody tr th:only-of-type {\n",
       "        vertical-align: middle;\n",
       "    }\n",
       "\n",
       "    .dataframe tbody tr th {\n",
       "        vertical-align: top;\n",
       "    }\n",
       "\n",
       "    .dataframe thead th {\n",
       "        text-align: right;\n",
       "    }\n",
       "</style>\n",
       "<table border=\"1\" class=\"dataframe\">\n",
       "  <thead>\n",
       "    <tr style=\"text-align: right;\">\n",
       "      <th></th>\n",
       "      <th>cap-shape</th>\n",
       "      <th>cap-surface</th>\n",
       "      <th>cap-color</th>\n",
       "      <th>bruises</th>\n",
       "      <th>odor</th>\n",
       "      <th>gill-attachment</th>\n",
       "      <th>gill-spacing</th>\n",
       "      <th>gill-size</th>\n",
       "      <th>gill-color</th>\n",
       "      <th>stalk-shape</th>\n",
       "      <th>...</th>\n",
       "      <th>stalk-surface-below-ring</th>\n",
       "      <th>stalk-color-above-ring</th>\n",
       "      <th>stalk-color-below-ring</th>\n",
       "      <th>veil-type</th>\n",
       "      <th>veil-color</th>\n",
       "      <th>ring-number</th>\n",
       "      <th>ring-type</th>\n",
       "      <th>spore-print-color</th>\n",
       "      <th>population</th>\n",
       "      <th>habitat</th>\n",
       "    </tr>\n",
       "  </thead>\n",
       "  <tbody>\n",
       "    <tr>\n",
       "      <th>count</th>\n",
       "      <td>7311</td>\n",
       "      <td>7311</td>\n",
       "      <td>7311</td>\n",
       "      <td>7311</td>\n",
       "      <td>7311</td>\n",
       "      <td>7311</td>\n",
       "      <td>7311</td>\n",
       "      <td>7311</td>\n",
       "      <td>7311</td>\n",
       "      <td>7311</td>\n",
       "      <td>...</td>\n",
       "      <td>7311</td>\n",
       "      <td>7311</td>\n",
       "      <td>7311</td>\n",
       "      <td>7311</td>\n",
       "      <td>7311</td>\n",
       "      <td>7311</td>\n",
       "      <td>7311</td>\n",
       "      <td>7311</td>\n",
       "      <td>7311</td>\n",
       "      <td>7311</td>\n",
       "    </tr>\n",
       "    <tr>\n",
       "      <th>unique</th>\n",
       "      <td>6</td>\n",
       "      <td>4</td>\n",
       "      <td>10</td>\n",
       "      <td>2</td>\n",
       "      <td>9</td>\n",
       "      <td>2</td>\n",
       "      <td>2</td>\n",
       "      <td>2</td>\n",
       "      <td>12</td>\n",
       "      <td>2</td>\n",
       "      <td>...</td>\n",
       "      <td>4</td>\n",
       "      <td>9</td>\n",
       "      <td>9</td>\n",
       "      <td>1</td>\n",
       "      <td>4</td>\n",
       "      <td>3</td>\n",
       "      <td>5</td>\n",
       "      <td>9</td>\n",
       "      <td>6</td>\n",
       "      <td>7</td>\n",
       "    </tr>\n",
       "    <tr>\n",
       "      <th>top</th>\n",
       "      <td>x</td>\n",
       "      <td>y</td>\n",
       "      <td>n</td>\n",
       "      <td>f</td>\n",
       "      <td>n</td>\n",
       "      <td>f</td>\n",
       "      <td>c</td>\n",
       "      <td>b</td>\n",
       "      <td>b</td>\n",
       "      <td>t</td>\n",
       "      <td>...</td>\n",
       "      <td>s</td>\n",
       "      <td>w</td>\n",
       "      <td>w</td>\n",
       "      <td>p</td>\n",
       "      <td>w</td>\n",
       "      <td>o</td>\n",
       "      <td>p</td>\n",
       "      <td>w</td>\n",
       "      <td>v</td>\n",
       "      <td>d</td>\n",
       "    </tr>\n",
       "    <tr>\n",
       "      <th>freq</th>\n",
       "      <td>3287</td>\n",
       "      <td>2899</td>\n",
       "      <td>2039</td>\n",
       "      <td>4268</td>\n",
       "      <td>3177</td>\n",
       "      <td>7129</td>\n",
       "      <td>6124</td>\n",
       "      <td>5056</td>\n",
       "      <td>1557</td>\n",
       "      <td>4156</td>\n",
       "      <td>...</td>\n",
       "      <td>4430</td>\n",
       "      <td>4024</td>\n",
       "      <td>3968</td>\n",
       "      <td>7311</td>\n",
       "      <td>7139</td>\n",
       "      <td>6730</td>\n",
       "      <td>3563</td>\n",
       "      <td>2157</td>\n",
       "      <td>3639</td>\n",
       "      <td>2839</td>\n",
       "    </tr>\n",
       "  </tbody>\n",
       "</table>\n",
       "<p>4 rows × 22 columns</p>\n",
       "</div>"
      ],
      "text/plain": [
       "       cap-shape cap-surface cap-color bruises  odor gill-attachment  \\\n",
       "count       7311        7311      7311    7311  7311            7311   \n",
       "unique         6           4        10       2     9               2   \n",
       "top            x           y         n       f     n               f   \n",
       "freq        3287        2899      2039    4268  3177            7129   \n",
       "\n",
       "       gill-spacing gill-size gill-color stalk-shape  ...  \\\n",
       "count          7311      7311       7311        7311  ...   \n",
       "unique            2         2         12           2  ...   \n",
       "top               c         b          b           t  ...   \n",
       "freq           6124      5056       1557        4156  ...   \n",
       "\n",
       "       stalk-surface-below-ring stalk-color-above-ring stalk-color-below-ring  \\\n",
       "count                      7311                   7311                   7311   \n",
       "unique                        4                      9                      9   \n",
       "top                           s                      w                      w   \n",
       "freq                       4430                   4024                   3968   \n",
       "\n",
       "       veil-type veil-color ring-number ring-type spore-print-color  \\\n",
       "count       7311       7311        7311      7311              7311   \n",
       "unique         1          4           3         5                 9   \n",
       "top            p          w           o         p                 w   \n",
       "freq        7311       7139        6730      3563              2157   \n",
       "\n",
       "       population habitat  \n",
       "count        7311    7311  \n",
       "unique          6       7  \n",
       "top             v       d  \n",
       "freq         3639    2839  \n",
       "\n",
       "[4 rows x 22 columns]"
      ]
     },
     "execution_count": 2,
     "metadata": {},
     "output_type": "execute_result"
    }
   ],
   "source": [
    "print(\"shape of the train data is \",mushroom_train_data.shape)\n",
    "print(\"Description of Train Data\\n\")\n",
    "mushroom_train_data.describe()"
   ]
  },
  {
   "cell_type": "code",
   "execution_count": 3,
   "id": "9e7481fd",
   "metadata": {
    "scrolled": false
   },
   "outputs": [
    {
     "name": "stdout",
     "output_type": "stream",
     "text": [
      "shape of the test data is (813, 22)\n",
      "\n",
      "\n"
     ]
    },
    {
     "data": {
      "text/html": [
       "<div>\n",
       "<style scoped>\n",
       "    .dataframe tbody tr th:only-of-type {\n",
       "        vertical-align: middle;\n",
       "    }\n",
       "\n",
       "    .dataframe tbody tr th {\n",
       "        vertical-align: top;\n",
       "    }\n",
       "\n",
       "    .dataframe thead th {\n",
       "        text-align: right;\n",
       "    }\n",
       "</style>\n",
       "<table border=\"1\" class=\"dataframe\">\n",
       "  <thead>\n",
       "    <tr style=\"text-align: right;\">\n",
       "      <th></th>\n",
       "      <th>cap-shape</th>\n",
       "      <th>cap-surface</th>\n",
       "      <th>cap-color</th>\n",
       "      <th>bruises</th>\n",
       "      <th>odor</th>\n",
       "      <th>gill-attachment</th>\n",
       "      <th>gill-spacing</th>\n",
       "      <th>gill-size</th>\n",
       "      <th>gill-color</th>\n",
       "      <th>stalk-shape</th>\n",
       "      <th>...</th>\n",
       "      <th>stalk-surface-below-ring</th>\n",
       "      <th>stalk-color-above-ring</th>\n",
       "      <th>stalk-color-below-ring</th>\n",
       "      <th>veil-type</th>\n",
       "      <th>veil-color</th>\n",
       "      <th>ring-number</th>\n",
       "      <th>ring-type</th>\n",
       "      <th>spore-print-color</th>\n",
       "      <th>population</th>\n",
       "      <th>habitat</th>\n",
       "    </tr>\n",
       "  </thead>\n",
       "  <tbody>\n",
       "    <tr>\n",
       "      <th>count</th>\n",
       "      <td>813</td>\n",
       "      <td>813</td>\n",
       "      <td>813</td>\n",
       "      <td>813</td>\n",
       "      <td>813</td>\n",
       "      <td>813</td>\n",
       "      <td>813</td>\n",
       "      <td>813</td>\n",
       "      <td>813</td>\n",
       "      <td>813</td>\n",
       "      <td>...</td>\n",
       "      <td>813</td>\n",
       "      <td>813</td>\n",
       "      <td>813</td>\n",
       "      <td>813</td>\n",
       "      <td>813</td>\n",
       "      <td>813</td>\n",
       "      <td>813</td>\n",
       "      <td>813</td>\n",
       "      <td>813</td>\n",
       "      <td>813</td>\n",
       "    </tr>\n",
       "    <tr>\n",
       "      <th>unique</th>\n",
       "      <td>5</td>\n",
       "      <td>3</td>\n",
       "      <td>10</td>\n",
       "      <td>2</td>\n",
       "      <td>9</td>\n",
       "      <td>2</td>\n",
       "      <td>2</td>\n",
       "      <td>2</td>\n",
       "      <td>12</td>\n",
       "      <td>2</td>\n",
       "      <td>...</td>\n",
       "      <td>4</td>\n",
       "      <td>9</td>\n",
       "      <td>9</td>\n",
       "      <td>1</td>\n",
       "      <td>4</td>\n",
       "      <td>3</td>\n",
       "      <td>5</td>\n",
       "      <td>9</td>\n",
       "      <td>6</td>\n",
       "      <td>7</td>\n",
       "    </tr>\n",
       "    <tr>\n",
       "      <th>top</th>\n",
       "      <td>x</td>\n",
       "      <td>y</td>\n",
       "      <td>n</td>\n",
       "      <td>f</td>\n",
       "      <td>n</td>\n",
       "      <td>f</td>\n",
       "      <td>c</td>\n",
       "      <td>b</td>\n",
       "      <td>b</td>\n",
       "      <td>t</td>\n",
       "      <td>...</td>\n",
       "      <td>s</td>\n",
       "      <td>w</td>\n",
       "      <td>w</td>\n",
       "      <td>p</td>\n",
       "      <td>w</td>\n",
       "      <td>o</td>\n",
       "      <td>p</td>\n",
       "      <td>w</td>\n",
       "      <td>v</td>\n",
       "      <td>d</td>\n",
       "    </tr>\n",
       "    <tr>\n",
       "      <th>freq</th>\n",
       "      <td>369</td>\n",
       "      <td>345</td>\n",
       "      <td>245</td>\n",
       "      <td>480</td>\n",
       "      <td>351</td>\n",
       "      <td>785</td>\n",
       "      <td>688</td>\n",
       "      <td>556</td>\n",
       "      <td>171</td>\n",
       "      <td>452</td>\n",
       "      <td>...</td>\n",
       "      <td>506</td>\n",
       "      <td>440</td>\n",
       "      <td>416</td>\n",
       "      <td>813</td>\n",
       "      <td>785</td>\n",
       "      <td>758</td>\n",
       "      <td>405</td>\n",
       "      <td>231</td>\n",
       "      <td>401</td>\n",
       "      <td>309</td>\n",
       "    </tr>\n",
       "  </tbody>\n",
       "</table>\n",
       "<p>4 rows × 22 columns</p>\n",
       "</div>"
      ],
      "text/plain": [
       "       cap-shape cap-surface cap-color bruises odor gill-attachment  \\\n",
       "count        813         813       813     813  813             813   \n",
       "unique         5           3        10       2    9               2   \n",
       "top            x           y         n       f    n               f   \n",
       "freq         369         345       245     480  351             785   \n",
       "\n",
       "       gill-spacing gill-size gill-color stalk-shape  ...  \\\n",
       "count           813       813        813         813  ...   \n",
       "unique            2         2         12           2  ...   \n",
       "top               c         b          b           t  ...   \n",
       "freq            688       556        171         452  ...   \n",
       "\n",
       "       stalk-surface-below-ring stalk-color-above-ring stalk-color-below-ring  \\\n",
       "count                       813                    813                    813   \n",
       "unique                        4                      9                      9   \n",
       "top                           s                      w                      w   \n",
       "freq                        506                    440                    416   \n",
       "\n",
       "       veil-type veil-color ring-number ring-type spore-print-color  \\\n",
       "count        813        813         813       813               813   \n",
       "unique         1          4           3         5                 9   \n",
       "top            p          w           o         p                 w   \n",
       "freq         813        785         758       405               231   \n",
       "\n",
       "       population habitat  \n",
       "count         813     813  \n",
       "unique          6       7  \n",
       "top             v       d  \n",
       "freq          401     309  \n",
       "\n",
       "[4 rows x 22 columns]"
      ]
     },
     "execution_count": 3,
     "metadata": {},
     "output_type": "execute_result"
    }
   ],
   "source": [
    "print('shape of the test data is',true_test.shape)\n",
    "print(\"\\n\")\n",
    "true_test.describe()"
   ]
  },
  {
   "cell_type": "code",
   "execution_count": 4,
   "id": "bb26534e",
   "metadata": {},
   "outputs": [
    {
     "name": "stdout",
     "output_type": "stream",
     "text": [
      "details of the class labels\n",
      "     class\n",
      "0        e\n",
      "1        e\n",
      "2        e\n",
      "3        p\n",
      "4        p\n",
      "...    ...\n",
      "7306     e\n",
      "7307     e\n",
      "7308     e\n",
      "7309     e\n",
      "7310     e\n",
      "\n",
      "[7311 rows x 1 columns]\n",
      "\n",
      "\n",
      "class\n",
      "e        3787\n",
      "p        3524\n",
      "dtype: int64\n"
     ]
    }
   ],
   "source": [
    "print('details of the class labels')\n",
    "print(mushroom_train_label)\n",
    "print(\"\\n\")\n",
    "print(mushroom_train_label.value_counts())"
   ]
  },
  {
   "cell_type": "code",
   "execution_count": 5,
   "id": "965415f0",
   "metadata": {
    "scrolled": false
   },
   "outputs": [
    {
     "data": {
      "image/png": "[encoded data removed]",
      "text/plain": [
       "<Figure size 640x480 with 1 Axes>"
      ]
     },
     "metadata": {},
     "output_type": "display_data"
    },
    {
     "data": {
      "image/png": "[encoded data removed]",
      "text/plain": [
       "<Figure size 640x480 with 1 Axes>"
      ]
     },
     "metadata": {},
     "output_type": "display_data"
    },
    {
     "data": {
      "image/png": "[encoded data removed]",
      "text/plain": [
       "<Figure size 640x480 with 1 Axes>"
      ]
     },
     "metadata": {},
     "output_type": "display_data"
    },
    {
     "data": {
      "image/png": "[encoded data removed]",
      "text/plain": [
       "<Figure size 640x480 with 1 Axes>"
      ]
     },
     "metadata": {},
     "output_type": "display_data"
    },
    {
     "data": {
      "image/png": "[encoded data removed]",
      "text/plain": [
       "<Figure size 640x480 with 1 Axes>"
      ]
     },
     "metadata": {},
     "output_type": "display_data"
    },
    {
     "data": {
      "image/png": "[encoded data removed]",
      "text/plain": [
       "<Figure size 640x480 with 1 Axes>"
      ]
     },
     "metadata": {},
     "output_type": "display_data"
    },
    {
     "data": {
      "image/png": "[encoded data removed]",
      "text/plain": [
       "<Figure size 640x480 with 1 Axes>"
      ]
     },
     "metadata": {},
     "output_type": "display_data"
    },
    {
     "data": {
      "image/png": "[encoded data removed]",
      "text/plain": [
       "<Figure size 640x480 with 1 Axes>"
      ]
     },
     "metadata": {},
     "output_type": "display_data"
    },
    {
     "data": {
      "image/png": "[encoded data removed]",
      "text/plain": [
       "<Figure size 640x480 with 1 Axes>"
      ]
     },
     "metadata": {},
     "output_type": "display_data"
    },
    {
     "data": {
      "image/png": "[encoded data removed]",
      "text/plain": [
       "<Figure size 640x480 with 1 Axes>"
      ]
     },
     "metadata": {},
     "output_type": "display_data"
    },
    {
     "data": {
      "image/png": "[encoded data removed]",
      "text/plain": [
       "<Figure size 640x480 with 1 Axes>"
      ]
     },
     "metadata": {},
     "output_type": "display_data"
    },
    {
     "data": {
      "image/png": "[encoded data removed]",
      "text/plain": [
       "<Figure size 640x480 with 1 Axes>"
      ]
     },
     "metadata": {},
     "output_type": "display_data"
    },
    {
     "data": {
      "image/png": "[encoded data removed]",
      "text/plain": [
       "<Figure size 640x480 with 1 Axes>"
      ]
     },
     "metadata": {},
     "output_type": "display_data"
    },
    {
     "data": {
      "image/png": "[encoded data removed]",
      "text/plain": [
       "<Figure size 640x480 with 1 Axes>"
      ]
     },
     "metadata": {},
     "output_type": "display_data"
    },
    {
     "data": {
      "image/png": "[encoded data removed]",
      "text/plain": [
       "<Figure size 640x480 with 1 Axes>"
      ]
     },
     "metadata": {},
     "output_type": "display_data"
    },
    {
     "data": {
      "image/png": "[encoded data removed]",
      "text/plain": [
       "<Figure size 640x480 with 1 Axes>"
      ]
     },
     "metadata": {},
     "output_type": "display_data"
    },
    {
     "data": {
      "image/png": "[encoded data removed]",
      "text/plain": [
       "<Figure size 640x480 with 1 Axes>"
      ]
     },
     "metadata": {},
     "output_type": "display_data"
    },
    {
     "data": {
      "image/png": "[encoded data removed]",
      "text/plain": [
       "<Figure size 640x480 with 1 Axes>"
      ]
     },
     "metadata": {},
     "output_type": "display_data"
    },
    {
     "data": {
      "image/png": "[encoded data removed]",
      "text/plain": [
       "<Figure size 640x480 with 1 Axes>"
      ]
     },
     "metadata": {},
     "output_type": "display_data"
    },
    {
     "data": {
      "image/png": "[encoded data removed]",
      "text/plain": [
       "<Figure size 640x480 with 1 Axes>"
      ]
     },
     "metadata": {},
     "output_type": "display_data"
    },
    {
     "data": {
      "image/png": "[encoded data removed]",
      "text/plain": [
       "<Figure size 640x480 with 1 Axes>"
      ]
     },
     "metadata": {},
     "output_type": "display_data"
    },
    {
     "data": {
      "image/png": "[encoded data removed]",
      "text/plain": [
       "<Figure size 640x480 with 1 Axes>"
      ]
     },
     "metadata": {},
     "output_type": "display_data"
    }
   ],
   "source": [
    "import matplotlib.pyplot as plt\n",
    "import seaborn as sns\n",
    "for i in mushroom_train_data.columns:\n",
    "    sns.countplot(data = mushroom_train_data, x = i, hue = mushroom_train_label['class'])\n",
    "    plt.show()"
   ]
  },
  {
   "cell_type": "markdown",
   "id": "f1eeee59",
   "metadata": {},
   "source": [
    "# Removing Feature Classes with missing values and only 1 unique value"
   ]
  },
  {
   "cell_type": "code",
   "execution_count": 6,
   "id": "0a240aff",
   "metadata": {},
   "outputs": [
    {
     "name": "stdout",
     "output_type": "stream",
     "text": [
      "Total unique features in stall-root feature class is  ['b' 'e' '?' 'c' 'r']\n",
      "and the count of each feature is\n",
      "  b    3401\n",
      "?    2235\n",
      "e    1005\n",
      "c     498\n",
      "r     172\n",
      "Name: stalk-root, dtype: int64\n"
     ]
    },
    {
     "data": {
      "text/plain": [
       "b    375\n",
       "?    245\n",
       "e    115\n",
       "c     58\n",
       "r     20\n",
       "Name: stalk-root, dtype: int64"
      ]
     },
     "execution_count": 6,
     "metadata": {},
     "output_type": "execute_result"
    }
   ],
   "source": [
    "print(\"Total unique features in stall-root feature class is \",mushroom_train_data['stalk-root'].unique())\n",
    "print(\"and the count of each feature is\\n \", mushroom_train_data['stalk-root'].value_counts())\n",
    "true_test['stalk-root'].value_counts()"
   ]
  },
  {
   "cell_type": "code",
   "execution_count": 7,
   "id": "229fdb3c",
   "metadata": {},
   "outputs": [],
   "source": [
    "mushroom_train_data = mushroom_train_data.drop(['veil-type','stalk-root'], axis = 1)\n",
    "true_test = true_test.drop(['veil-type','stalk-root'], axis = 1)"
   ]
  },
  {
   "cell_type": "markdown",
   "id": "f4f38193",
   "metadata": {},
   "source": [
    "# Data Pre-Processing"
   ]
  },
  {
   "cell_type": "code",
   "execution_count": 8,
   "id": "1efad62d",
   "metadata": {},
   "outputs": [
    {
     "name": "stdout",
     "output_type": "stream",
     "text": [
      "                         count unique top  freq\n",
      "cap-shape                 8124      6   x  3656\n",
      "cap-surface               8124      4   y  3244\n",
      "cap-color                 8124     10   n  2284\n",
      "bruises                   8124      2   f  4748\n",
      "odor                      8124      9   n  3528\n",
      "gill-attachment           8124      2   f  7914\n",
      "gill-spacing              8124      2   c  6812\n",
      "gill-size                 8124      2   b  5612\n",
      "gill-color                8124     12   b  1728\n",
      "stalk-shape               8124      2   t  4608\n",
      "stalk-surface-above-ring  8124      4   s  5176\n",
      "stalk-surface-below-ring  8124      4   s  4936\n",
      "stalk-color-above-ring    8124      9   w  4464\n",
      "stalk-color-below-ring    8124      9   w  4384\n",
      "veil-color                8124      4   w  7924\n",
      "ring-number               8124      3   o  7488\n",
      "ring-type                 8124      5   p  3968\n",
      "spore-print-color         8124      9   w  2388\n",
      "population                8124      6   v  4040\n",
      "habitat                   8124      7   d  3148\n"
     ]
    }
   ],
   "source": [
    "merged_dataset = pd.concat([mushroom_train_data, true_test], axis = 0)\n",
    "print(merged_dataset.describe().T)"
   ]
  },
  {
   "cell_type": "code",
   "execution_count": 9,
   "id": "a38c4484",
   "metadata": {},
   "outputs": [
    {
     "data": {
      "text/plain": [
       "cap-shape                   0\n",
       "cap-surface                 0\n",
       "cap-color                   0\n",
       "bruises                     0\n",
       "odor                        0\n",
       "gill-attachment             0\n",
       "gill-spacing                0\n",
       "gill-size                   0\n",
       "gill-color                  0\n",
       "stalk-shape                 0\n",
       "stalk-surface-above-ring    0\n",
       "stalk-surface-below-ring    0\n",
       "stalk-color-above-ring      0\n",
       "stalk-color-below-ring      0\n",
       "veil-color                  0\n",
       "ring-number                 0\n",
       "ring-type                   0\n",
       "spore-print-color           0\n",
       "population                  0\n",
       "habitat                     0\n",
       "dtype: int64"
      ]
     },
     "execution_count": 9,
     "metadata": {},
     "output_type": "execute_result"
    }
   ],
   "source": [
    "merged_dataset.isnull().sum()"
   ]
  },
  {
   "cell_type": "code",
   "execution_count": 10,
   "id": "62e9fe5c",
   "metadata": {},
   "outputs": [
    {
     "data": {
      "text/html": [
       "<div>\n",
       "<style scoped>\n",
       "    .dataframe tbody tr th:only-of-type {\n",
       "        vertical-align: middle;\n",
       "    }\n",
       "\n",
       "    .dataframe tbody tr th {\n",
       "        vertical-align: top;\n",
       "    }\n",
       "\n",
       "    .dataframe thead th {\n",
       "        text-align: right;\n",
       "    }\n",
       "</style>\n",
       "<table border=\"1\" class=\"dataframe\">\n",
       "  <thead>\n",
       "    <tr style=\"text-align: right;\">\n",
       "      <th></th>\n",
       "      <th>cap-shape_b</th>\n",
       "      <th>cap-shape_c</th>\n",
       "      <th>cap-shape_f</th>\n",
       "      <th>cap-shape_k</th>\n",
       "      <th>cap-shape_s</th>\n",
       "      <th>cap-shape_x</th>\n",
       "      <th>cap-surface_f</th>\n",
       "      <th>cap-surface_g</th>\n",
       "      <th>cap-surface_s</th>\n",
       "      <th>cap-surface_y</th>\n",
       "      <th>...</th>\n",
       "      <th>population_s</th>\n",
       "      <th>population_v</th>\n",
       "      <th>population_y</th>\n",
       "      <th>habitat_d</th>\n",
       "      <th>habitat_g</th>\n",
       "      <th>habitat_l</th>\n",
       "      <th>habitat_m</th>\n",
       "      <th>habitat_p</th>\n",
       "      <th>habitat_u</th>\n",
       "      <th>habitat_w</th>\n",
       "    </tr>\n",
       "  </thead>\n",
       "  <tbody>\n",
       "    <tr>\n",
       "      <th>0</th>\n",
       "      <td>0</td>\n",
       "      <td>0</td>\n",
       "      <td>1</td>\n",
       "      <td>0</td>\n",
       "      <td>0</td>\n",
       "      <td>0</td>\n",
       "      <td>0</td>\n",
       "      <td>0</td>\n",
       "      <td>0</td>\n",
       "      <td>1</td>\n",
       "      <td>...</td>\n",
       "      <td>0</td>\n",
       "      <td>0</td>\n",
       "      <td>1</td>\n",
       "      <td>1</td>\n",
       "      <td>0</td>\n",
       "      <td>0</td>\n",
       "      <td>0</td>\n",
       "      <td>0</td>\n",
       "      <td>0</td>\n",
       "      <td>0</td>\n",
       "    </tr>\n",
       "    <tr>\n",
       "      <th>1</th>\n",
       "      <td>0</td>\n",
       "      <td>0</td>\n",
       "      <td>1</td>\n",
       "      <td>0</td>\n",
       "      <td>0</td>\n",
       "      <td>0</td>\n",
       "      <td>1</td>\n",
       "      <td>0</td>\n",
       "      <td>0</td>\n",
       "      <td>0</td>\n",
       "      <td>...</td>\n",
       "      <td>0</td>\n",
       "      <td>1</td>\n",
       "      <td>0</td>\n",
       "      <td>1</td>\n",
       "      <td>0</td>\n",
       "      <td>0</td>\n",
       "      <td>0</td>\n",
       "      <td>0</td>\n",
       "      <td>0</td>\n",
       "      <td>0</td>\n",
       "    </tr>\n",
       "    <tr>\n",
       "      <th>2</th>\n",
       "      <td>0</td>\n",
       "      <td>0</td>\n",
       "      <td>1</td>\n",
       "      <td>0</td>\n",
       "      <td>0</td>\n",
       "      <td>0</td>\n",
       "      <td>0</td>\n",
       "      <td>0</td>\n",
       "      <td>1</td>\n",
       "      <td>0</td>\n",
       "      <td>...</td>\n",
       "      <td>0</td>\n",
       "      <td>0</td>\n",
       "      <td>0</td>\n",
       "      <td>0</td>\n",
       "      <td>1</td>\n",
       "      <td>0</td>\n",
       "      <td>0</td>\n",
       "      <td>0</td>\n",
       "      <td>0</td>\n",
       "      <td>0</td>\n",
       "    </tr>\n",
       "    <tr>\n",
       "      <th>3</th>\n",
       "      <td>0</td>\n",
       "      <td>0</td>\n",
       "      <td>0</td>\n",
       "      <td>0</td>\n",
       "      <td>0</td>\n",
       "      <td>1</td>\n",
       "      <td>0</td>\n",
       "      <td>0</td>\n",
       "      <td>1</td>\n",
       "      <td>0</td>\n",
       "      <td>...</td>\n",
       "      <td>0</td>\n",
       "      <td>1</td>\n",
       "      <td>0</td>\n",
       "      <td>1</td>\n",
       "      <td>0</td>\n",
       "      <td>0</td>\n",
       "      <td>0</td>\n",
       "      <td>0</td>\n",
       "      <td>0</td>\n",
       "      <td>0</td>\n",
       "    </tr>\n",
       "    <tr>\n",
       "      <th>4</th>\n",
       "      <td>0</td>\n",
       "      <td>0</td>\n",
       "      <td>0</td>\n",
       "      <td>0</td>\n",
       "      <td>0</td>\n",
       "      <td>1</td>\n",
       "      <td>0</td>\n",
       "      <td>0</td>\n",
       "      <td>1</td>\n",
       "      <td>0</td>\n",
       "      <td>...</td>\n",
       "      <td>0</td>\n",
       "      <td>1</td>\n",
       "      <td>0</td>\n",
       "      <td>0</td>\n",
       "      <td>0</td>\n",
       "      <td>0</td>\n",
       "      <td>0</td>\n",
       "      <td>1</td>\n",
       "      <td>0</td>\n",
       "      <td>0</td>\n",
       "    </tr>\n",
       "    <tr>\n",
       "      <th>...</th>\n",
       "      <td>...</td>\n",
       "      <td>...</td>\n",
       "      <td>...</td>\n",
       "      <td>...</td>\n",
       "      <td>...</td>\n",
       "      <td>...</td>\n",
       "      <td>...</td>\n",
       "      <td>...</td>\n",
       "      <td>...</td>\n",
       "      <td>...</td>\n",
       "      <td>...</td>\n",
       "      <td>...</td>\n",
       "      <td>...</td>\n",
       "      <td>...</td>\n",
       "      <td>...</td>\n",
       "      <td>...</td>\n",
       "      <td>...</td>\n",
       "      <td>...</td>\n",
       "      <td>...</td>\n",
       "      <td>...</td>\n",
       "      <td>...</td>\n",
       "    </tr>\n",
       "    <tr>\n",
       "      <th>808</th>\n",
       "      <td>0</td>\n",
       "      <td>0</td>\n",
       "      <td>1</td>\n",
       "      <td>0</td>\n",
       "      <td>0</td>\n",
       "      <td>0</td>\n",
       "      <td>1</td>\n",
       "      <td>0</td>\n",
       "      <td>0</td>\n",
       "      <td>0</td>\n",
       "      <td>...</td>\n",
       "      <td>0</td>\n",
       "      <td>0</td>\n",
       "      <td>0</td>\n",
       "      <td>0</td>\n",
       "      <td>1</td>\n",
       "      <td>0</td>\n",
       "      <td>0</td>\n",
       "      <td>0</td>\n",
       "      <td>0</td>\n",
       "      <td>0</td>\n",
       "    </tr>\n",
       "    <tr>\n",
       "      <th>809</th>\n",
       "      <td>0</td>\n",
       "      <td>0</td>\n",
       "      <td>1</td>\n",
       "      <td>0</td>\n",
       "      <td>0</td>\n",
       "      <td>0</td>\n",
       "      <td>1</td>\n",
       "      <td>0</td>\n",
       "      <td>0</td>\n",
       "      <td>0</td>\n",
       "      <td>...</td>\n",
       "      <td>0</td>\n",
       "      <td>1</td>\n",
       "      <td>0</td>\n",
       "      <td>0</td>\n",
       "      <td>0</td>\n",
       "      <td>0</td>\n",
       "      <td>0</td>\n",
       "      <td>1</td>\n",
       "      <td>0</td>\n",
       "      <td>0</td>\n",
       "    </tr>\n",
       "    <tr>\n",
       "      <th>810</th>\n",
       "      <td>0</td>\n",
       "      <td>0</td>\n",
       "      <td>0</td>\n",
       "      <td>0</td>\n",
       "      <td>0</td>\n",
       "      <td>1</td>\n",
       "      <td>0</td>\n",
       "      <td>0</td>\n",
       "      <td>1</td>\n",
       "      <td>0</td>\n",
       "      <td>...</td>\n",
       "      <td>1</td>\n",
       "      <td>0</td>\n",
       "      <td>0</td>\n",
       "      <td>0</td>\n",
       "      <td>1</td>\n",
       "      <td>0</td>\n",
       "      <td>0</td>\n",
       "      <td>0</td>\n",
       "      <td>0</td>\n",
       "      <td>0</td>\n",
       "    </tr>\n",
       "    <tr>\n",
       "      <th>811</th>\n",
       "      <td>0</td>\n",
       "      <td>0</td>\n",
       "      <td>1</td>\n",
       "      <td>0</td>\n",
       "      <td>0</td>\n",
       "      <td>0</td>\n",
       "      <td>0</td>\n",
       "      <td>0</td>\n",
       "      <td>0</td>\n",
       "      <td>1</td>\n",
       "      <td>...</td>\n",
       "      <td>0</td>\n",
       "      <td>0</td>\n",
       "      <td>1</td>\n",
       "      <td>0</td>\n",
       "      <td>1</td>\n",
       "      <td>0</td>\n",
       "      <td>0</td>\n",
       "      <td>0</td>\n",
       "      <td>0</td>\n",
       "      <td>0</td>\n",
       "    </tr>\n",
       "    <tr>\n",
       "      <th>812</th>\n",
       "      <td>0</td>\n",
       "      <td>0</td>\n",
       "      <td>0</td>\n",
       "      <td>0</td>\n",
       "      <td>0</td>\n",
       "      <td>1</td>\n",
       "      <td>1</td>\n",
       "      <td>0</td>\n",
       "      <td>0</td>\n",
       "      <td>0</td>\n",
       "      <td>...</td>\n",
       "      <td>0</td>\n",
       "      <td>1</td>\n",
       "      <td>0</td>\n",
       "      <td>1</td>\n",
       "      <td>0</td>\n",
       "      <td>0</td>\n",
       "      <td>0</td>\n",
       "      <td>0</td>\n",
       "      <td>0</td>\n",
       "      <td>0</td>\n",
       "    </tr>\n",
       "  </tbody>\n",
       "</table>\n",
       "<p>8124 rows × 111 columns</p>\n",
       "</div>"
      ],
      "text/plain": [
       "     cap-shape_b  cap-shape_c  cap-shape_f  cap-shape_k  cap-shape_s  \\\n",
       "0              0            0            1            0            0   \n",
       "1              0            0            1            0            0   \n",
       "2              0            0            1            0            0   \n",
       "3              0            0            0            0            0   \n",
       "4              0            0            0            0            0   \n",
       "..           ...          ...          ...          ...          ...   \n",
       "808            0            0            1            0            0   \n",
       "809            0            0            1            0            0   \n",
       "810            0            0            0            0            0   \n",
       "811            0            0            1            0            0   \n",
       "812            0            0            0            0            0   \n",
       "\n",
       "     cap-shape_x  cap-surface_f  cap-surface_g  cap-surface_s  cap-surface_y  \\\n",
       "0              0              0              0              0              1   \n",
       "1              0              1              0              0              0   \n",
       "2              0              0              0              1              0   \n",
       "3              1              0              0              1              0   \n",
       "4              1              0              0              1              0   \n",
       "..           ...            ...            ...            ...            ...   \n",
       "808            0              1              0              0              0   \n",
       "809            0              1              0              0              0   \n",
       "810            1              0              0              1              0   \n",
       "811            0              0              0              0              1   \n",
       "812            1              1              0              0              0   \n",
       "\n",
       "     ...  population_s  population_v  population_y  habitat_d  habitat_g  \\\n",
       "0    ...             0             0             1          1          0   \n",
       "1    ...             0             1             0          1          0   \n",
       "2    ...             0             0             0          0          1   \n",
       "3    ...             0             1             0          1          0   \n",
       "4    ...             0             1             0          0          0   \n",
       "..   ...           ...           ...           ...        ...        ...   \n",
       "808  ...             0             0             0          0          1   \n",
       "809  ...             0             1             0          0          0   \n",
       "810  ...             1             0             0          0          1   \n",
       "811  ...             0             0             1          0          1   \n",
       "812  ...             0             1             0          1          0   \n",
       "\n",
       "     habitat_l  habitat_m  habitat_p  habitat_u  habitat_w  \n",
       "0            0          0          0          0          0  \n",
       "1            0          0          0          0          0  \n",
       "2            0          0          0          0          0  \n",
       "3            0          0          0          0          0  \n",
       "4            0          0          1          0          0  \n",
       "..         ...        ...        ...        ...        ...  \n",
       "808          0          0          0          0          0  \n",
       "809          0          0          1          0          0  \n",
       "810          0          0          0          0          0  \n",
       "811          0          0          0          0          0  \n",
       "812          0          0          0          0          0  \n",
       "\n",
       "[8124 rows x 111 columns]"
      ]
     },
     "execution_count": 10,
     "metadata": {},
     "output_type": "execute_result"
    }
   ],
   "source": [
    "merged_dataset = pd.get_dummies(merged_dataset)\n",
    "merged_dataset"
   ]
  },
  {
   "cell_type": "code",
   "execution_count": 11,
   "id": "323f0c43",
   "metadata": {},
   "outputs": [],
   "source": [
    "mushroom_train_data = merged_dataset.iloc[:7311]     #splicing back to original training data\n",
    "true_test = merged_dataset.iloc[7311:]               #splicing back to original testing data\n",
    "mushroom_train_label = mushroom_train_label.replace({\"p\" : 0, \"e\" : 1})"
   ]
  },
  {
   "cell_type": "markdown",
   "id": "8d74c454",
   "metadata": {},
   "source": [
    "# Feature Selection "
   ]
  },
  {
   "cell_type": "code",
   "execution_count": 12,
   "id": "b16e4a5d",
   "metadata": {
    "scrolled": false
   },
   "outputs": [
    {
     "data": {
      "text/html": [
       "<div>\n",
       "<style scoped>\n",
       "    .dataframe tbody tr th:only-of-type {\n",
       "        vertical-align: middle;\n",
       "    }\n",
       "\n",
       "    .dataframe tbody tr th {\n",
       "        vertical-align: top;\n",
       "    }\n",
       "\n",
       "    .dataframe thead th {\n",
       "        text-align: right;\n",
       "    }\n",
       "</style>\n",
       "<table border=\"1\" class=\"dataframe\">\n",
       "  <thead>\n",
       "    <tr style=\"text-align: right;\">\n",
       "      <th></th>\n",
       "      <th>cap-shape_b</th>\n",
       "      <th>cap-shape_c</th>\n",
       "      <th>cap-shape_f</th>\n",
       "      <th>cap-shape_k</th>\n",
       "      <th>cap-shape_s</th>\n",
       "      <th>cap-shape_x</th>\n",
       "      <th>cap-surface_f</th>\n",
       "      <th>cap-surface_g</th>\n",
       "      <th>cap-surface_s</th>\n",
       "      <th>cap-surface_y</th>\n",
       "      <th>...</th>\n",
       "      <th>population_s</th>\n",
       "      <th>population_v</th>\n",
       "      <th>population_y</th>\n",
       "      <th>habitat_d</th>\n",
       "      <th>habitat_g</th>\n",
       "      <th>habitat_l</th>\n",
       "      <th>habitat_m</th>\n",
       "      <th>habitat_p</th>\n",
       "      <th>habitat_u</th>\n",
       "      <th>habitat_w</th>\n",
       "    </tr>\n",
       "  </thead>\n",
       "  <tbody>\n",
       "    <tr>\n",
       "      <th>cap-shape_b</th>\n",
       "      <td>1.000000</td>\n",
       "      <td>-0.005696</td>\n",
       "      <td>-0.194013</td>\n",
       "      <td>-0.081814</td>\n",
       "      <td>-0.015362</td>\n",
       "      <td>-0.220011</td>\n",
       "      <td>-0.090262</td>\n",
       "      <td>0.019757</td>\n",
       "      <td>0.108950</td>\n",
       "      <td>-0.020902</td>\n",
       "      <td>...</td>\n",
       "      <td>0.166123</td>\n",
       "      <td>-0.169721</td>\n",
       "      <td>-0.121002</td>\n",
       "      <td>-0.184187</td>\n",
       "      <td>0.148817</td>\n",
       "      <td>0.010821</td>\n",
       "      <td>0.379805</td>\n",
       "      <td>-0.094527</td>\n",
       "      <td>-0.053094</td>\n",
       "      <td>-0.038344</td>\n",
       "    </tr>\n",
       "    <tr>\n",
       "      <th>cap-shape_c</th>\n",
       "      <td>-0.005696</td>\n",
       "      <td>1.000000</td>\n",
       "      <td>-0.018647</td>\n",
       "      <td>-0.007863</td>\n",
       "      <td>-0.001477</td>\n",
       "      <td>-0.021146</td>\n",
       "      <td>-0.014868</td>\n",
       "      <td>0.249589</td>\n",
       "      <td>-0.015876</td>\n",
       "      <td>0.016906</td>\n",
       "      <td>...</td>\n",
       "      <td>-0.009941</td>\n",
       "      <td>-0.023292</td>\n",
       "      <td>-0.012052</td>\n",
       "      <td>-0.018642</td>\n",
       "      <td>-0.014067</td>\n",
       "      <td>0.069616</td>\n",
       "      <td>-0.004502</td>\n",
       "      <td>-0.009416</td>\n",
       "      <td>-0.005103</td>\n",
       "      <td>-0.003685</td>\n",
       "    </tr>\n",
       "    <tr>\n",
       "      <th>cap-shape_f</th>\n",
       "      <td>-0.194013</td>\n",
       "      <td>-0.018647</td>\n",
       "      <td>1.000000</td>\n",
       "      <td>-0.267861</td>\n",
       "      <td>-0.050296</td>\n",
       "      <td>-0.720324</td>\n",
       "      <td>0.063283</td>\n",
       "      <td>-0.006646</td>\n",
       "      <td>-0.091439</td>\n",
       "      <td>0.028608</td>\n",
       "      <td>...</td>\n",
       "      <td>-0.075863</td>\n",
       "      <td>0.040080</td>\n",
       "      <td>0.107885</td>\n",
       "      <td>0.080138</td>\n",
       "      <td>-0.020331</td>\n",
       "      <td>-0.050401</td>\n",
       "      <td>-0.127637</td>\n",
       "      <td>0.018769</td>\n",
       "      <td>0.025654</td>\n",
       "      <td>-0.019640</td>\n",
       "    </tr>\n",
       "    <tr>\n",
       "      <th>cap-shape_k</th>\n",
       "      <td>-0.081814</td>\n",
       "      <td>-0.007863</td>\n",
       "      <td>-0.267861</td>\n",
       "      <td>1.000000</td>\n",
       "      <td>-0.021209</td>\n",
       "      <td>-0.303755</td>\n",
       "      <td>-0.158534</td>\n",
       "      <td>0.011506</td>\n",
       "      <td>0.137518</td>\n",
       "      <td>0.015535</td>\n",
       "      <td>...</td>\n",
       "      <td>-0.086166</td>\n",
       "      <td>0.168204</td>\n",
       "      <td>-0.168664</td>\n",
       "      <td>-0.089343</td>\n",
       "      <td>-0.108719</td>\n",
       "      <td>0.226031</td>\n",
       "      <td>-0.064666</td>\n",
       "      <td>0.090998</td>\n",
       "      <td>-0.073304</td>\n",
       "      <td>0.123878</td>\n",
       "    </tr>\n",
       "    <tr>\n",
       "      <th>cap-shape_s</th>\n",
       "      <td>-0.015362</td>\n",
       "      <td>-0.001477</td>\n",
       "      <td>-0.050296</td>\n",
       "      <td>-0.021209</td>\n",
       "      <td>1.000000</td>\n",
       "      <td>-0.057035</td>\n",
       "      <td>0.099309</td>\n",
       "      <td>-0.001477</td>\n",
       "      <td>-0.042822</td>\n",
       "      <td>-0.051154</td>\n",
       "      <td>...</td>\n",
       "      <td>-0.026813</td>\n",
       "      <td>-0.001891</td>\n",
       "      <td>0.047678</td>\n",
       "      <td>-0.050281</td>\n",
       "      <td>-0.037940</td>\n",
       "      <td>-0.021209</td>\n",
       "      <td>-0.012142</td>\n",
       "      <td>-0.025396</td>\n",
       "      <td>0.289335</td>\n",
       "      <td>-0.009940</td>\n",
       "    </tr>\n",
       "    <tr>\n",
       "      <th>...</th>\n",
       "      <td>...</td>\n",
       "      <td>...</td>\n",
       "      <td>...</td>\n",
       "      <td>...</td>\n",
       "      <td>...</td>\n",
       "      <td>...</td>\n",
       "      <td>...</td>\n",
       "      <td>...</td>\n",
       "      <td>...</td>\n",
       "      <td>...</td>\n",
       "      <td>...</td>\n",
       "      <td>...</td>\n",
       "      <td>...</td>\n",
       "      <td>...</td>\n",
       "      <td>...</td>\n",
       "      <td>...</td>\n",
       "      <td>...</td>\n",
       "      <td>...</td>\n",
       "      <td>...</td>\n",
       "      <td>...</td>\n",
       "      <td>...</td>\n",
       "    </tr>\n",
       "    <tr>\n",
       "      <th>habitat_l</th>\n",
       "      <td>0.010821</td>\n",
       "      <td>0.069616</td>\n",
       "      <td>-0.050401</td>\n",
       "      <td>0.226031</td>\n",
       "      <td>-0.021209</td>\n",
       "      <td>-0.093421</td>\n",
       "      <td>-0.190554</td>\n",
       "      <td>0.069616</td>\n",
       "      <td>0.183336</td>\n",
       "      <td>-0.001132</td>\n",
       "      <td>...</td>\n",
       "      <td>-0.142798</td>\n",
       "      <td>0.248829</td>\n",
       "      <td>-0.173115</td>\n",
       "      <td>-0.267784</td>\n",
       "      <td>-0.202059</td>\n",
       "      <td>1.000000</td>\n",
       "      <td>-0.064666</td>\n",
       "      <td>-0.135252</td>\n",
       "      <td>-0.073304</td>\n",
       "      <td>-0.052939</td>\n",
       "    </tr>\n",
       "    <tr>\n",
       "      <th>habitat_m</th>\n",
       "      <td>0.379805</td>\n",
       "      <td>-0.004502</td>\n",
       "      <td>-0.127637</td>\n",
       "      <td>-0.064666</td>\n",
       "      <td>-0.012142</td>\n",
       "      <td>-0.009402</td>\n",
       "      <td>-0.122267</td>\n",
       "      <td>-0.004502</td>\n",
       "      <td>0.069356</td>\n",
       "      <td>0.047481</td>\n",
       "      <td>...</td>\n",
       "      <td>0.149705</td>\n",
       "      <td>-0.141413</td>\n",
       "      <td>-0.099108</td>\n",
       "      <td>-0.153305</td>\n",
       "      <td>-0.115678</td>\n",
       "      <td>-0.064666</td>\n",
       "      <td>1.000000</td>\n",
       "      <td>-0.077432</td>\n",
       "      <td>-0.041966</td>\n",
       "      <td>-0.030307</td>\n",
       "    </tr>\n",
       "    <tr>\n",
       "      <th>habitat_p</th>\n",
       "      <td>-0.094527</td>\n",
       "      <td>-0.009416</td>\n",
       "      <td>0.018769</td>\n",
       "      <td>0.090998</td>\n",
       "      <td>-0.025396</td>\n",
       "      <td>-0.026309</td>\n",
       "      <td>-0.088217</td>\n",
       "      <td>-0.009416</td>\n",
       "      <td>-0.034228</td>\n",
       "      <td>0.114593</td>\n",
       "      <td>...</td>\n",
       "      <td>-0.122706</td>\n",
       "      <td>0.170453</td>\n",
       "      <td>0.037187</td>\n",
       "      <td>-0.320645</td>\n",
       "      <td>-0.241946</td>\n",
       "      <td>-0.135252</td>\n",
       "      <td>-0.077432</td>\n",
       "      <td>1.000000</td>\n",
       "      <td>-0.087774</td>\n",
       "      <td>-0.063389</td>\n",
       "    </tr>\n",
       "    <tr>\n",
       "      <th>habitat_u</th>\n",
       "      <td>-0.053094</td>\n",
       "      <td>-0.005103</td>\n",
       "      <td>0.025654</td>\n",
       "      <td>-0.073304</td>\n",
       "      <td>0.289335</td>\n",
       "      <td>0.007572</td>\n",
       "      <td>-0.015238</td>\n",
       "      <td>-0.005103</td>\n",
       "      <td>0.122062</td>\n",
       "      <td>-0.101592</td>\n",
       "      <td>...</td>\n",
       "      <td>0.135495</td>\n",
       "      <td>-0.000329</td>\n",
       "      <td>-0.044565</td>\n",
       "      <td>-0.173782</td>\n",
       "      <td>-0.131129</td>\n",
       "      <td>-0.073304</td>\n",
       "      <td>-0.041966</td>\n",
       "      <td>-0.087774</td>\n",
       "      <td>1.000000</td>\n",
       "      <td>-0.034355</td>\n",
       "    </tr>\n",
       "    <tr>\n",
       "      <th>habitat_w</th>\n",
       "      <td>-0.038344</td>\n",
       "      <td>-0.003685</td>\n",
       "      <td>-0.019640</td>\n",
       "      <td>0.123878</td>\n",
       "      <td>-0.009940</td>\n",
       "      <td>-0.036814</td>\n",
       "      <td>-0.100093</td>\n",
       "      <td>-0.003685</td>\n",
       "      <td>0.065496</td>\n",
       "      <td>0.030590</td>\n",
       "      <td>...</td>\n",
       "      <td>-0.066925</td>\n",
       "      <td>-0.156805</td>\n",
       "      <td>-0.081134</td>\n",
       "      <td>-0.125502</td>\n",
       "      <td>-0.094699</td>\n",
       "      <td>-0.052939</td>\n",
       "      <td>-0.030307</td>\n",
       "      <td>-0.063389</td>\n",
       "      <td>-0.034355</td>\n",
       "      <td>1.000000</td>\n",
       "    </tr>\n",
       "  </tbody>\n",
       "</table>\n",
       "<p>111 rows × 111 columns</p>\n",
       "</div>"
      ],
      "text/plain": [
       "             cap-shape_b  cap-shape_c  cap-shape_f  cap-shape_k  cap-shape_s  \\\n",
       "cap-shape_b     1.000000    -0.005696    -0.194013    -0.081814    -0.015362   \n",
       "cap-shape_c    -0.005696     1.000000    -0.018647    -0.007863    -0.001477   \n",
       "cap-shape_f    -0.194013    -0.018647     1.000000    -0.267861    -0.050296   \n",
       "cap-shape_k    -0.081814    -0.007863    -0.267861     1.000000    -0.021209   \n",
       "cap-shape_s    -0.015362    -0.001477    -0.050296    -0.021209     1.000000   \n",
       "...                  ...          ...          ...          ...          ...   \n",
       "habitat_l       0.010821     0.069616    -0.050401     0.226031    -0.021209   \n",
       "habitat_m       0.379805    -0.004502    -0.127637    -0.064666    -0.012142   \n",
       "habitat_p      -0.094527    -0.009416     0.018769     0.090998    -0.025396   \n",
       "habitat_u      -0.053094    -0.005103     0.025654    -0.073304     0.289335   \n",
       "habitat_w      -0.038344    -0.003685    -0.019640     0.123878    -0.009940   \n",
       "\n",
       "             cap-shape_x  cap-surface_f  cap-surface_g  cap-surface_s  \\\n",
       "cap-shape_b    -0.220011      -0.090262       0.019757       0.108950   \n",
       "cap-shape_c    -0.021146      -0.014868       0.249589      -0.015876   \n",
       "cap-shape_f    -0.720324       0.063283      -0.006646      -0.091439   \n",
       "cap-shape_k    -0.303755      -0.158534       0.011506       0.137518   \n",
       "cap-shape_s    -0.057035       0.099309      -0.001477      -0.042822   \n",
       "...                  ...            ...            ...            ...   \n",
       "habitat_l      -0.093421      -0.190554       0.069616       0.183336   \n",
       "habitat_m      -0.009402      -0.122267      -0.004502       0.069356   \n",
       "habitat_p      -0.026309      -0.088217      -0.009416      -0.034228   \n",
       "habitat_u       0.007572      -0.015238      -0.005103       0.122062   \n",
       "habitat_w      -0.036814      -0.100093      -0.003685       0.065496   \n",
       "\n",
       "             cap-surface_y  ...  population_s  population_v  population_y  \\\n",
       "cap-shape_b      -0.020902  ...      0.166123     -0.169721     -0.121002   \n",
       "cap-shape_c       0.016906  ...     -0.009941     -0.023292     -0.012052   \n",
       "cap-shape_f       0.028608  ...     -0.075863      0.040080      0.107885   \n",
       "cap-shape_k       0.015535  ...     -0.086166      0.168204     -0.168664   \n",
       "cap-shape_s      -0.051154  ...     -0.026813     -0.001891      0.047678   \n",
       "...                    ...  ...           ...           ...           ...   \n",
       "habitat_l        -0.001132  ...     -0.142798      0.248829     -0.173115   \n",
       "habitat_m         0.047481  ...      0.149705     -0.141413     -0.099108   \n",
       "habitat_p         0.114593  ...     -0.122706      0.170453      0.037187   \n",
       "habitat_u        -0.101592  ...      0.135495     -0.000329     -0.044565   \n",
       "habitat_w         0.030590  ...     -0.066925     -0.156805     -0.081134   \n",
       "\n",
       "             habitat_d  habitat_g  habitat_l  habitat_m  habitat_p  habitat_u  \\\n",
       "cap-shape_b  -0.184187   0.148817   0.010821   0.379805  -0.094527  -0.053094   \n",
       "cap-shape_c  -0.018642  -0.014067   0.069616  -0.004502  -0.009416  -0.005103   \n",
       "cap-shape_f   0.080138  -0.020331  -0.050401  -0.127637   0.018769   0.025654   \n",
       "cap-shape_k  -0.089343  -0.108719   0.226031  -0.064666   0.090998  -0.073304   \n",
       "cap-shape_s  -0.050281  -0.037940  -0.021209  -0.012142  -0.025396   0.289335   \n",
       "...                ...        ...        ...        ...        ...        ...   \n",
       "habitat_l    -0.267784  -0.202059   1.000000  -0.064666  -0.135252  -0.073304   \n",
       "habitat_m    -0.153305  -0.115678  -0.064666   1.000000  -0.077432  -0.041966   \n",
       "habitat_p    -0.320645  -0.241946  -0.135252  -0.077432   1.000000  -0.087774   \n",
       "habitat_u    -0.173782  -0.131129  -0.073304  -0.041966  -0.087774   1.000000   \n",
       "habitat_w    -0.125502  -0.094699  -0.052939  -0.030307  -0.063389  -0.034355   \n",
       "\n",
       "             habitat_w  \n",
       "cap-shape_b  -0.038344  \n",
       "cap-shape_c  -0.003685  \n",
       "cap-shape_f  -0.019640  \n",
       "cap-shape_k   0.123878  \n",
       "cap-shape_s  -0.009940  \n",
       "...                ...  \n",
       "habitat_l    -0.052939  \n",
       "habitat_m    -0.030307  \n",
       "habitat_p    -0.063389  \n",
       "habitat_u    -0.034355  \n",
       "habitat_w     1.000000  \n",
       "\n",
       "[111 rows x 111 columns]"
      ]
     },
     "execution_count": 12,
     "metadata": {},
     "output_type": "execute_result"
    }
   ],
   "source": [
    "mushroom_train_data.corr()"
   ]
  },
  {
   "cell_type": "code",
   "execution_count": 13,
   "id": "9b6e786d",
   "metadata": {},
   "outputs": [],
   "source": [
    "def correlations(dataset, threshold):  #To find the correlated features\n",
    "    corr_column = set()\n",
    "    corr_matrix = dataset.corr()\n",
    "    for i in range(len(corr_matrix.columns)):\n",
    "        for j in range(i):\n",
    "            if (corr_matrix.iloc[i,j]) > threshold:\n",
    "                col_name = corr_matrix.columns[i]\n",
    "                corr_column.add(col_name)\n",
    "    return corr_column"
   ]
  },
  {
   "cell_type": "code",
   "execution_count": 14,
   "id": "4c3c6f37",
   "metadata": {},
   "outputs": [
    {
     "name": "stdout",
     "output_type": "stream",
     "text": [
      "Number of correlated features are 10\n",
      "{'stalk-color-above-ring_c', 'ring-number_n', 'veil-color_y', 'stalk-color-below-ring_o', 'stalk-color-above-ring_o', 'spore-print-color_h', 'spore-print-color_w', 'veil-color_w', 'stalk-color-below-ring_c', 'ring-type_n'}\n"
     ]
    }
   ],
   "source": [
    "corr_features = correlations(mushroom_train_data, 0.8)  #Threshold of 80% correlation \n",
    "print('Number of correlated features are',len(set(corr_features)))\n",
    "print(corr_features)"
   ]
  },
  {
   "cell_type": "code",
   "execution_count": 15,
   "id": "01f72c84",
   "metadata": {},
   "outputs": [],
   "source": [
    "mushroom_train_data = mushroom_train_data.drop(corr_features, axis = 1)\n",
    "true_test = true_test.drop(corr_features, axis = 1)"
   ]
  },
  {
   "cell_type": "markdown",
   "id": "9be4159d",
   "metadata": {},
   "source": [
    "# Working on Classifier Models"
   ]
  },
  {
   "cell_type": "code",
   "execution_count": 16,
   "id": "afd9dfc3",
   "metadata": {},
   "outputs": [],
   "source": [
    "features = mushroom_train_data\n",
    "target = mushroom_train_label\n",
    "x = features.values\n",
    "y = target.values"
   ]
  },
  {
   "cell_type": "code",
   "execution_count": 17,
   "id": "ca480b08",
   "metadata": {},
   "outputs": [
    {
     "name": "stdout",
     "output_type": "stream",
     "text": [
      "x_train Shape: (5848, 101)\n",
      "x_test Shape: (1463, 101)\n",
      "y_train Shape: (5848, 1)\n",
      "y_test Shape: (1463, 1)\n"
     ]
    }
   ],
   "source": [
    "from sklearn.model_selection import train_test_split\n",
    "from sklearn.metrics import confusion_matrix, classification_report, accuracy_score\n",
    "\n",
    "x_train, x_test, y_train, y_test = train_test_split(x, y, test_size = 0.2, random_state=42)                                                  \n",
    "class_names = ['poisonous', 'edible']\n",
    "print ('x_train Shape:', x_train.shape)\n",
    "print ('x_test Shape:', x_test.shape)\n",
    "print ('y_train Shape:', y_train.shape)\n",
    "print ('y_test Shape:', y_test.shape)"
   ]
  },
  {
   "cell_type": "code",
   "execution_count": 18,
   "id": "d8161c3b",
   "metadata": {},
   "outputs": [],
   "source": [
    "from sklearn.linear_model import LogisticRegression\n",
    "from sklearn.tree import DecisionTreeClassifier\n",
    "from sklearn.ensemble import RandomForestClassifier\n",
    "from sklearn.neighbors import KNeighborsClassifier\n",
    "from sklearn.svm import SVC\n",
    "from sklearn.model_selection import GridSearchCV"
   ]
  },
  {
   "cell_type": "markdown",
   "id": "bfb74000",
   "metadata": {},
   "source": [
    "# 1) Logistic Regression"
   ]
  },
  {
   "cell_type": "code",
   "execution_count": 19,
   "id": "873c1dd5",
   "metadata": {},
   "outputs": [
    {
     "data": {
      "text/plain": [
       "GridSearchCV(estimator=LogisticRegression(),\n",
       "             param_grid={'penalty': ['l1', 'l2', 'elasticnet', 'None'],\n",
       "                         'solver': ['lbfgs', 'liblinear', 'newton-cg']})"
      ]
     },
     "execution_count": 19,
     "metadata": {},
     "output_type": "execute_result"
    }
   ],
   "source": [
    "log = LogisticRegression()\n",
    "gsc_log = GridSearchCV(log,{'penalty':['l1', 'l2', 'elasticnet', 'None'], 'solver':['lbfgs', 'liblinear', 'newton-cg']})\n",
    "gsc_log.fit(x_train,y_train)"
   ]
  },
  {
   "cell_type": "code",
   "execution_count": 20,
   "id": "00acc753",
   "metadata": {},
   "outputs": [
    {
     "data": {
      "text/html": [
       "<div>\n",
       "<style scoped>\n",
       "    .dataframe tbody tr th:only-of-type {\n",
       "        vertical-align: middle;\n",
       "    }\n",
       "\n",
       "    .dataframe tbody tr th {\n",
       "        vertical-align: top;\n",
       "    }\n",
       "\n",
       "    .dataframe thead th {\n",
       "        text-align: right;\n",
       "    }\n",
       "</style>\n",
       "<table border=\"1\" class=\"dataframe\">\n",
       "  <thead>\n",
       "    <tr style=\"text-align: right;\">\n",
       "      <th></th>\n",
       "      <th>mean_fit_time</th>\n",
       "      <th>param_penalty</th>\n",
       "      <th>param_solver</th>\n",
       "      <th>mean_test_score</th>\n",
       "    </tr>\n",
       "  </thead>\n",
       "  <tbody>\n",
       "    <tr>\n",
       "      <th>0</th>\n",
       "      <td>0.000000</td>\n",
       "      <td>l1</td>\n",
       "      <td>lbfgs</td>\n",
       "      <td>NaN</td>\n",
       "    </tr>\n",
       "    <tr>\n",
       "      <th>1</th>\n",
       "      <td>0.015561</td>\n",
       "      <td>l1</td>\n",
       "      <td>liblinear</td>\n",
       "      <td>0.999658</td>\n",
       "    </tr>\n",
       "    <tr>\n",
       "      <th>2</th>\n",
       "      <td>0.000000</td>\n",
       "      <td>l1</td>\n",
       "      <td>newton-cg</td>\n",
       "      <td>NaN</td>\n",
       "    </tr>\n",
       "    <tr>\n",
       "      <th>3</th>\n",
       "      <td>0.084927</td>\n",
       "      <td>l2</td>\n",
       "      <td>lbfgs</td>\n",
       "      <td>0.999658</td>\n",
       "    </tr>\n",
       "    <tr>\n",
       "      <th>4</th>\n",
       "      <td>0.019097</td>\n",
       "      <td>l2</td>\n",
       "      <td>liblinear</td>\n",
       "      <td>0.999658</td>\n",
       "    </tr>\n",
       "    <tr>\n",
       "      <th>5</th>\n",
       "      <td>0.169852</td>\n",
       "      <td>l2</td>\n",
       "      <td>newton-cg</td>\n",
       "      <td>0.999658</td>\n",
       "    </tr>\n",
       "    <tr>\n",
       "      <th>6</th>\n",
       "      <td>0.000000</td>\n",
       "      <td>elasticnet</td>\n",
       "      <td>lbfgs</td>\n",
       "      <td>NaN</td>\n",
       "    </tr>\n",
       "    <tr>\n",
       "      <th>7</th>\n",
       "      <td>0.003137</td>\n",
       "      <td>elasticnet</td>\n",
       "      <td>liblinear</td>\n",
       "      <td>NaN</td>\n",
       "    </tr>\n",
       "    <tr>\n",
       "      <th>8</th>\n",
       "      <td>0.000000</td>\n",
       "      <td>elasticnet</td>\n",
       "      <td>newton-cg</td>\n",
       "      <td>NaN</td>\n",
       "    </tr>\n",
       "    <tr>\n",
       "      <th>9</th>\n",
       "      <td>0.000000</td>\n",
       "      <td>None</td>\n",
       "      <td>lbfgs</td>\n",
       "      <td>NaN</td>\n",
       "    </tr>\n",
       "    <tr>\n",
       "      <th>10</th>\n",
       "      <td>0.000285</td>\n",
       "      <td>None</td>\n",
       "      <td>liblinear</td>\n",
       "      <td>NaN</td>\n",
       "    </tr>\n",
       "    <tr>\n",
       "      <th>11</th>\n",
       "      <td>0.000000</td>\n",
       "      <td>None</td>\n",
       "      <td>newton-cg</td>\n",
       "      <td>NaN</td>\n",
       "    </tr>\n",
       "  </tbody>\n",
       "</table>\n",
       "</div>"
      ],
      "text/plain": [
       "    mean_fit_time param_penalty param_solver  mean_test_score\n",
       "0        0.000000            l1        lbfgs              NaN\n",
       "1        0.015561            l1    liblinear         0.999658\n",
       "2        0.000000            l1    newton-cg              NaN\n",
       "3        0.084927            l2        lbfgs         0.999658\n",
       "4        0.019097            l2    liblinear         0.999658\n",
       "5        0.169852            l2    newton-cg         0.999658\n",
       "6        0.000000    elasticnet        lbfgs              NaN\n",
       "7        0.003137    elasticnet    liblinear              NaN\n",
       "8        0.000000    elasticnet    newton-cg              NaN\n",
       "9        0.000000          None        lbfgs              NaN\n",
       "10       0.000285          None    liblinear              NaN\n",
       "11       0.000000          None    newton-cg              NaN"
      ]
     },
     "execution_count": 20,
     "metadata": {},
     "output_type": "execute_result"
    }
   ],
   "source": [
    "log_result = pd.DataFrame(gsc_log.cv_results_)\n",
    "log_result[['mean_fit_time', 'param_penalty', 'param_solver', 'mean_test_score']]"
   ]
  },
  {
   "cell_type": "code",
   "execution_count": 21,
   "id": "89457565",
   "metadata": {},
   "outputs": [
    {
     "name": "stdout",
     "output_type": "stream",
     "text": [
      "best LOG parameters are: {'penalty': 'l1', 'solver': 'liblinear'}\n",
      "best LOG score is 0.9996579734304285\n"
     ]
    }
   ],
   "source": [
    "print('best LOG parameters are:',gsc_log.best_params_)\n",
    "print('best LOG score is',gsc_log.best_score_)"
   ]
  },
  {
   "cell_type": "code",
   "execution_count": 22,
   "id": "5f007cb0",
   "metadata": {},
   "outputs": [
    {
     "name": "stdout",
     "output_type": "stream",
     "text": [
      "\n",
      "Logistic Regression confusion matrix: \n",
      " [[716   0]\n",
      " [  0 747]]\n",
      "\n",
      "Logistic Regression classification report: \n",
      "               precision    recall  f1-score   support\n",
      "\n",
      "   poisonous       1.00      1.00      1.00       716\n",
      "      edible       1.00      1.00      1.00       747\n",
      "\n",
      "    accuracy                           1.00      1463\n",
      "   macro avg       1.00      1.00      1.00      1463\n",
      "weighted avg       1.00      1.00      1.00      1463\n",
      "\n"
     ]
    }
   ],
   "source": [
    "log = gsc_log.best_estimator_\n",
    "log_pred = log.predict(x_test)\n",
    "print(\"\\nLogistic Regression confusion matrix: \\n\",confusion_matrix(y_test, log_pred))\n",
    "print(\"\\nLogistic Regression classification report: \\n\",classification_report(y_test,log_pred,target_names=class_names))"
   ]
  },
  {
   "cell_type": "markdown",
   "id": "cb92e64f",
   "metadata": {},
   "source": [
    "# 2) Decision Tree Classifier"
   ]
  },
  {
   "cell_type": "code",
   "execution_count": 23,
   "id": "7ddfd09d",
   "metadata": {},
   "outputs": [
    {
     "data": {
      "text/plain": [
       "GridSearchCV(cv=10, estimator=DecisionTreeClassifier(),\n",
       "             param_grid={'criterion': ['gini', 'entropy', 'log_loss'],\n",
       "                         'max_depth': [2, 3, 4]})"
      ]
     },
     "execution_count": 23,
     "metadata": {},
     "output_type": "execute_result"
    }
   ],
   "source": [
    "dtree = DecisionTreeClassifier()\n",
    "gsc_dtree = GridSearchCV(dtree,{'criterion': ['gini', 'entropy', 'log_loss'], 'max_depth':[2,3,4]}, cv = 10)\n",
    "gsc_dtree.fit(x_train,y_train)"
   ]
  },
  {
   "cell_type": "code",
   "execution_count": 24,
   "id": "b7ec0d2b",
   "metadata": {},
   "outputs": [
    {
     "data": {
      "text/html": [
       "<div>\n",
       "<style scoped>\n",
       "    .dataframe tbody tr th:only-of-type {\n",
       "        vertical-align: middle;\n",
       "    }\n",
       "\n",
       "    .dataframe tbody tr th {\n",
       "        vertical-align: top;\n",
       "    }\n",
       "\n",
       "    .dataframe thead th {\n",
       "        text-align: right;\n",
       "    }\n",
       "</style>\n",
       "<table border=\"1\" class=\"dataframe\">\n",
       "  <thead>\n",
       "    <tr style=\"text-align: right;\">\n",
       "      <th></th>\n",
       "      <th>mean_fit_time</th>\n",
       "      <th>param_criterion</th>\n",
       "      <th>param_max_depth</th>\n",
       "      <th>mean_test_score</th>\n",
       "    </tr>\n",
       "  </thead>\n",
       "  <tbody>\n",
       "    <tr>\n",
       "      <th>0</th>\n",
       "      <td>0.008615</td>\n",
       "      <td>gini</td>\n",
       "      <td>2</td>\n",
       "      <td>0.925445</td>\n",
       "    </tr>\n",
       "    <tr>\n",
       "      <th>1</th>\n",
       "      <td>0.008953</td>\n",
       "      <td>gini</td>\n",
       "      <td>3</td>\n",
       "      <td>0.965800</td>\n",
       "    </tr>\n",
       "    <tr>\n",
       "      <th>2</th>\n",
       "      <td>0.013033</td>\n",
       "      <td>gini</td>\n",
       "      <td>4</td>\n",
       "      <td>0.999658</td>\n",
       "    </tr>\n",
       "    <tr>\n",
       "      <th>3</th>\n",
       "      <td>0.008726</td>\n",
       "      <td>entropy</td>\n",
       "      <td>2</td>\n",
       "      <td>0.925445</td>\n",
       "    </tr>\n",
       "    <tr>\n",
       "      <th>4</th>\n",
       "      <td>0.011936</td>\n",
       "      <td>entropy</td>\n",
       "      <td>3</td>\n",
       "      <td>0.965800</td>\n",
       "    </tr>\n",
       "    <tr>\n",
       "      <th>5</th>\n",
       "      <td>0.010319</td>\n",
       "      <td>entropy</td>\n",
       "      <td>4</td>\n",
       "      <td>0.999658</td>\n",
       "    </tr>\n",
       "    <tr>\n",
       "      <th>6</th>\n",
       "      <td>0.000000</td>\n",
       "      <td>log_loss</td>\n",
       "      <td>2</td>\n",
       "      <td>NaN</td>\n",
       "    </tr>\n",
       "    <tr>\n",
       "      <th>7</th>\n",
       "      <td>0.003365</td>\n",
       "      <td>log_loss</td>\n",
       "      <td>3</td>\n",
       "      <td>NaN</td>\n",
       "    </tr>\n",
       "    <tr>\n",
       "      <th>8</th>\n",
       "      <td>0.001363</td>\n",
       "      <td>log_loss</td>\n",
       "      <td>4</td>\n",
       "      <td>NaN</td>\n",
       "    </tr>\n",
       "  </tbody>\n",
       "</table>\n",
       "</div>"
      ],
      "text/plain": [
       "   mean_fit_time param_criterion param_max_depth  mean_test_score\n",
       "0       0.008615            gini               2         0.925445\n",
       "1       0.008953            gini               3         0.965800\n",
       "2       0.013033            gini               4         0.999658\n",
       "3       0.008726         entropy               2         0.925445\n",
       "4       0.011936         entropy               3         0.965800\n",
       "5       0.010319         entropy               4         0.999658\n",
       "6       0.000000        log_loss               2              NaN\n",
       "7       0.003365        log_loss               3              NaN\n",
       "8       0.001363        log_loss               4              NaN"
      ]
     },
     "execution_count": 24,
     "metadata": {},
     "output_type": "execute_result"
    }
   ],
   "source": [
    "dtree_result = pd.DataFrame(gsc_dtree.cv_results_)\n",
    "dtree_result[['mean_fit_time', 'param_criterion', 'param_max_depth', 'mean_test_score']]"
   ]
  },
  {
   "cell_type": "code",
   "execution_count": 25,
   "id": "519e5b6c",
   "metadata": {},
   "outputs": [
    {
     "name": "stdout",
     "output_type": "stream",
     "text": [
      "best DTree parameters are: {'criterion': 'gini', 'max_depth': 4}\n",
      "best DTree score is 0.9996581196581197\n"
     ]
    }
   ],
   "source": [
    "print('best DTree parameters are:',gsc_dtree.best_params_)\n",
    "print('best DTree score is',gsc_dtree.best_score_)"
   ]
  },
  {
   "cell_type": "code",
   "execution_count": 26,
   "id": "59cac397",
   "metadata": {},
   "outputs": [
    {
     "name": "stdout",
     "output_type": "stream",
     "text": [
      "\n",
      "Decision tree confusion matrix: \n",
      " [[715   1]\n",
      " [  0 747]]\n",
      "\n",
      "Decision tree classification report: \n",
      "               precision    recall  f1-score   support\n",
      "\n",
      "   poisonous       1.00      1.00      1.00       716\n",
      "      edible       1.00      1.00      1.00       747\n",
      "\n",
      "    accuracy                           1.00      1463\n",
      "   macro avg       1.00      1.00      1.00      1463\n",
      "weighted avg       1.00      1.00      1.00      1463\n",
      "\n"
     ]
    }
   ],
   "source": [
    "dtree = gsc_dtree.best_estimator_\n",
    "dtree_pred = dtree.predict(x_test)\n",
    "print(\"\\nDecision tree confusion matrix: \\n\",confusion_matrix(y_test, dtree_pred))\n",
    "print(\"\\nDecision tree classification report: \\n\",classification_report(y_test,dtree_pred,target_names=class_names))"
   ]
  },
  {
   "cell_type": "markdown",
   "id": "6f0d303f",
   "metadata": {},
   "source": [
    "# 3) Random Forest Classifier"
   ]
  },
  {
   "cell_type": "code",
   "execution_count": 27,
   "id": "5267fbfd",
   "metadata": {},
   "outputs": [
    {
     "data": {
      "text/plain": [
       "GridSearchCV(estimator=RandomForestClassifier(),\n",
       "             param_grid={'n_estimators': [3, 6, 9]})"
      ]
     },
     "execution_count": 27,
     "metadata": {},
     "output_type": "execute_result"
    }
   ],
   "source": [
    "rfc = RandomForestClassifier()\n",
    "gsc_rfc = GridSearchCV(rfc,{'n_estimators':[3,6,9]})\n",
    "gsc_rfc.fit(x_train,y_train)"
   ]
  },
  {
   "cell_type": "code",
   "execution_count": 28,
   "id": "25bc27f3",
   "metadata": {},
   "outputs": [
    {
     "data": {
      "text/html": [
       "<div>\n",
       "<style scoped>\n",
       "    .dataframe tbody tr th:only-of-type {\n",
       "        vertical-align: middle;\n",
       "    }\n",
       "\n",
       "    .dataframe tbody tr th {\n",
       "        vertical-align: top;\n",
       "    }\n",
       "\n",
       "    .dataframe thead th {\n",
       "        text-align: right;\n",
       "    }\n",
       "</style>\n",
       "<table border=\"1\" class=\"dataframe\">\n",
       "  <thead>\n",
       "    <tr style=\"text-align: right;\">\n",
       "      <th></th>\n",
       "      <th>mean_fit_time</th>\n",
       "      <th>param_n_estimators</th>\n",
       "      <th>mean_test_score</th>\n",
       "    </tr>\n",
       "  </thead>\n",
       "  <tbody>\n",
       "    <tr>\n",
       "      <th>0</th>\n",
       "      <td>0.008031</td>\n",
       "      <td>3</td>\n",
       "      <td>0.999658</td>\n",
       "    </tr>\n",
       "    <tr>\n",
       "      <th>1</th>\n",
       "      <td>0.016074</td>\n",
       "      <td>6</td>\n",
       "      <td>1.000000</td>\n",
       "    </tr>\n",
       "    <tr>\n",
       "      <th>2</th>\n",
       "      <td>0.018441</td>\n",
       "      <td>9</td>\n",
       "      <td>1.000000</td>\n",
       "    </tr>\n",
       "  </tbody>\n",
       "</table>\n",
       "</div>"
      ],
      "text/plain": [
       "   mean_fit_time param_n_estimators  mean_test_score\n",
       "0       0.008031                  3         0.999658\n",
       "1       0.016074                  6         1.000000\n",
       "2       0.018441                  9         1.000000"
      ]
     },
     "execution_count": 28,
     "metadata": {},
     "output_type": "execute_result"
    }
   ],
   "source": [
    "rfc_result = pd.DataFrame(gsc_rfc.cv_results_)\n",
    "rfc_result[['mean_fit_time', 'param_n_estimators', 'mean_test_score']]"
   ]
  },
  {
   "cell_type": "code",
   "execution_count": 29,
   "id": "72caa0e0",
   "metadata": {},
   "outputs": [
    {
     "name": "stdout",
     "output_type": "stream",
     "text": [
      "best RFC parameters are: {'n_estimators': 6}\n",
      "best RFC score is 1.0\n"
     ]
    }
   ],
   "source": [
    "print('best RFC parameters are:',gsc_rfc.best_params_)\n",
    "print('best RFC score is',gsc_rfc.best_score_)"
   ]
  },
  {
   "cell_type": "code",
   "execution_count": 30,
   "id": "e47dcb9e",
   "metadata": {},
   "outputs": [
    {
     "name": "stdout",
     "output_type": "stream",
     "text": [
      "\n",
      "RFC confusion matrix: \n",
      " [[716   0]\n",
      " [  0 747]]\n",
      "\n",
      "RFC classification report: \n",
      "               precision    recall  f1-score   support\n",
      "\n",
      "   poisonous       1.00      1.00      1.00       716\n",
      "      edible       1.00      1.00      1.00       747\n",
      "\n",
      "    accuracy                           1.00      1463\n",
      "   macro avg       1.00      1.00      1.00      1463\n",
      "weighted avg       1.00      1.00      1.00      1463\n",
      "\n"
     ]
    }
   ],
   "source": [
    "rfc = gsc_rfc.best_estimator_\n",
    "rfc_pred = rfc.predict(x_test)\n",
    "print(\"\\nRFC confusion matrix: \\n\",confusion_matrix(y_test, rfc_pred))\n",
    "print(\"\\nRFC classification report: \\n\",classification_report(y_test,rfc_pred,target_names=class_names))"
   ]
  },
  {
   "cell_type": "markdown",
   "id": "dcc6786c",
   "metadata": {},
   "source": [
    "# 4) K-Neighbors Classifier"
   ]
  },
  {
   "cell_type": "code",
   "execution_count": 31,
   "id": "d485a788",
   "metadata": {},
   "outputs": [
    {
     "data": {
      "text/plain": [
       "GridSearchCV(cv=10, estimator=KNeighborsClassifier(),\n",
       "             param_grid={'algorithm': ['auto', 'ball_tree', 'kd_tree', 'brute'],\n",
       "                         'weights': ['uniform', 'distance']})"
      ]
     },
     "execution_count": 31,
     "metadata": {},
     "output_type": "execute_result"
    }
   ],
   "source": [
    "knn = KNeighborsClassifier()\n",
    "gsc_knn = GridSearchCV(knn,{'weights':['uniform','distance'], 'algorithm':['auto', 'ball_tree', 'kd_tree', 'brute'] }, cv = 10)\n",
    "gsc_knn.fit(x_train,y_train)"
   ]
  },
  {
   "cell_type": "code",
   "execution_count": 32,
   "id": "c9e05265",
   "metadata": {},
   "outputs": [
    {
     "data": {
      "text/html": [
       "<div>\n",
       "<style scoped>\n",
       "    .dataframe tbody tr th:only-of-type {\n",
       "        vertical-align: middle;\n",
       "    }\n",
       "\n",
       "    .dataframe tbody tr th {\n",
       "        vertical-align: top;\n",
       "    }\n",
       "\n",
       "    .dataframe thead th {\n",
       "        text-align: right;\n",
       "    }\n",
       "</style>\n",
       "<table border=\"1\" class=\"dataframe\">\n",
       "  <thead>\n",
       "    <tr style=\"text-align: right;\">\n",
       "      <th></th>\n",
       "      <th>mean_fit_time</th>\n",
       "      <th>param_algorithm</th>\n",
       "      <th>param_weights</th>\n",
       "      <th>mean_test_score</th>\n",
       "    </tr>\n",
       "  </thead>\n",
       "  <tbody>\n",
       "    <tr>\n",
       "      <th>0</th>\n",
       "      <td>0.000204</td>\n",
       "      <td>auto</td>\n",
       "      <td>uniform</td>\n",
       "      <td>1.0</td>\n",
       "    </tr>\n",
       "    <tr>\n",
       "      <th>1</th>\n",
       "      <td>0.000451</td>\n",
       "      <td>auto</td>\n",
       "      <td>distance</td>\n",
       "      <td>1.0</td>\n",
       "    </tr>\n",
       "    <tr>\n",
       "      <th>2</th>\n",
       "      <td>0.039325</td>\n",
       "      <td>ball_tree</td>\n",
       "      <td>uniform</td>\n",
       "      <td>1.0</td>\n",
       "    </tr>\n",
       "    <tr>\n",
       "      <th>3</th>\n",
       "      <td>0.036127</td>\n",
       "      <td>ball_tree</td>\n",
       "      <td>distance</td>\n",
       "      <td>1.0</td>\n",
       "    </tr>\n",
       "    <tr>\n",
       "      <th>4</th>\n",
       "      <td>0.061714</td>\n",
       "      <td>kd_tree</td>\n",
       "      <td>uniform</td>\n",
       "      <td>1.0</td>\n",
       "    </tr>\n",
       "    <tr>\n",
       "      <th>5</th>\n",
       "      <td>0.064003</td>\n",
       "      <td>kd_tree</td>\n",
       "      <td>distance</td>\n",
       "      <td>1.0</td>\n",
       "    </tr>\n",
       "    <tr>\n",
       "      <th>6</th>\n",
       "      <td>0.003487</td>\n",
       "      <td>brute</td>\n",
       "      <td>uniform</td>\n",
       "      <td>1.0</td>\n",
       "    </tr>\n",
       "    <tr>\n",
       "      <th>7</th>\n",
       "      <td>0.000628</td>\n",
       "      <td>brute</td>\n",
       "      <td>distance</td>\n",
       "      <td>1.0</td>\n",
       "    </tr>\n",
       "  </tbody>\n",
       "</table>\n",
       "</div>"
      ],
      "text/plain": [
       "   mean_fit_time param_algorithm param_weights  mean_test_score\n",
       "0       0.000204            auto       uniform              1.0\n",
       "1       0.000451            auto      distance              1.0\n",
       "2       0.039325       ball_tree       uniform              1.0\n",
       "3       0.036127       ball_tree      distance              1.0\n",
       "4       0.061714         kd_tree       uniform              1.0\n",
       "5       0.064003         kd_tree      distance              1.0\n",
       "6       0.003487           brute       uniform              1.0\n",
       "7       0.000628           brute      distance              1.0"
      ]
     },
     "execution_count": 32,
     "metadata": {},
     "output_type": "execute_result"
    }
   ],
   "source": [
    "knn_result = pd.DataFrame(gsc_knn.cv_results_)\n",
    "knn_result[['mean_fit_time', 'param_algorithm', 'param_weights', 'mean_test_score']]"
   ]
  },
  {
   "cell_type": "code",
   "execution_count": 33,
   "id": "9d43fb51",
   "metadata": {},
   "outputs": [
    {
     "name": "stdout",
     "output_type": "stream",
     "text": [
      "best KNN parameters are: {'algorithm': 'auto', 'weights': 'uniform'}\n",
      "best KNN score is 1.0\n"
     ]
    }
   ],
   "source": [
    "print('best KNN parameters are:',gsc_knn.best_params_)\n",
    "print('best KNN score is',gsc_knn.best_score_)"
   ]
  },
  {
   "cell_type": "code",
   "execution_count": 34,
   "id": "b0673fa9",
   "metadata": {},
   "outputs": [
    {
     "name": "stdout",
     "output_type": "stream",
     "text": [
      "\n",
      "KNN confusion matrix: \n",
      " [[716   0]\n",
      " [  0 747]]\n",
      "\n",
      "KNN classification report: \n",
      "               precision    recall  f1-score   support\n",
      "\n",
      "   poisonous       1.00      1.00      1.00       716\n",
      "      edible       1.00      1.00      1.00       747\n",
      "\n",
      "    accuracy                           1.00      1463\n",
      "   macro avg       1.00      1.00      1.00      1463\n",
      "weighted avg       1.00      1.00      1.00      1463\n",
      "\n"
     ]
    }
   ],
   "source": [
    "knn = gsc_knn.best_estimator_\n",
    "knn_pred = knn.predict(x_test)\n",
    "print(\"\\nKNN confusion matrix: \\n\",confusion_matrix(y_test, knn_pred))\n",
    "print(\"\\nKNN classification report: \\n\",classification_report(y_test,knn_pred,target_names=class_names))"
   ]
  },
  {
   "cell_type": "markdown",
   "id": "aec21d0f",
   "metadata": {},
   "source": [
    "# 5) Support Vector Classifier "
   ]
  },
  {
   "cell_type": "code",
   "execution_count": 35,
   "id": "9803e40f",
   "metadata": {},
   "outputs": [
    {
     "data": {
      "text/plain": [
       "GridSearchCV(cv=10, estimator=SVC(),\n",
       "             param_grid={'C': [0.1, 0.3, 0.5],\n",
       "                         'kernel': ['linear', 'rbf', 'poly']})"
      ]
     },
     "execution_count": 35,
     "metadata": {},
     "output_type": "execute_result"
    }
   ],
   "source": [
    "svm = SVC()\n",
    "gsc_svm = GridSearchCV(svm,{\"C\":[0.1, 0.3, 0.5], 'kernel':['linear','rbf','poly']}, cv = 10)\n",
    "gsc_svm.fit(x_train,y_train)"
   ]
  },
  {
   "cell_type": "code",
   "execution_count": 36,
   "id": "52b82ffd",
   "metadata": {},
   "outputs": [
    {
     "data": {
      "text/html": [
       "<div>\n",
       "<style scoped>\n",
       "    .dataframe tbody tr th:only-of-type {\n",
       "        vertical-align: middle;\n",
       "    }\n",
       "\n",
       "    .dataframe tbody tr th {\n",
       "        vertical-align: top;\n",
       "    }\n",
       "\n",
       "    .dataframe thead th {\n",
       "        text-align: right;\n",
       "    }\n",
       "</style>\n",
       "<table border=\"1\" class=\"dataframe\">\n",
       "  <thead>\n",
       "    <tr style=\"text-align: right;\">\n",
       "      <th></th>\n",
       "      <th>mean_fit_time</th>\n",
       "      <th>param_C</th>\n",
       "      <th>param_kernel</th>\n",
       "      <th>mean_test_score</th>\n",
       "    </tr>\n",
       "  </thead>\n",
       "  <tbody>\n",
       "    <tr>\n",
       "      <th>0</th>\n",
       "      <td>0.206867</td>\n",
       "      <td>0.1</td>\n",
       "      <td>linear</td>\n",
       "      <td>0.999487</td>\n",
       "    </tr>\n",
       "    <tr>\n",
       "      <th>1</th>\n",
       "      <td>0.714515</td>\n",
       "      <td>0.1</td>\n",
       "      <td>rbf</td>\n",
       "      <td>0.997263</td>\n",
       "    </tr>\n",
       "    <tr>\n",
       "      <th>2</th>\n",
       "      <td>0.469789</td>\n",
       "      <td>0.1</td>\n",
       "      <td>poly</td>\n",
       "      <td>0.998974</td>\n",
       "    </tr>\n",
       "    <tr>\n",
       "      <th>3</th>\n",
       "      <td>0.149206</td>\n",
       "      <td>0.3</td>\n",
       "      <td>linear</td>\n",
       "      <td>1.000000</td>\n",
       "    </tr>\n",
       "    <tr>\n",
       "      <th>4</th>\n",
       "      <td>0.572915</td>\n",
       "      <td>0.3</td>\n",
       "      <td>rbf</td>\n",
       "      <td>0.998974</td>\n",
       "    </tr>\n",
       "    <tr>\n",
       "      <th>5</th>\n",
       "      <td>0.427823</td>\n",
       "      <td>0.3</td>\n",
       "      <td>poly</td>\n",
       "      <td>1.000000</td>\n",
       "    </tr>\n",
       "    <tr>\n",
       "      <th>6</th>\n",
       "      <td>0.116077</td>\n",
       "      <td>0.5</td>\n",
       "      <td>linear</td>\n",
       "      <td>1.000000</td>\n",
       "    </tr>\n",
       "    <tr>\n",
       "      <th>7</th>\n",
       "      <td>0.511751</td>\n",
       "      <td>0.5</td>\n",
       "      <td>rbf</td>\n",
       "      <td>0.999829</td>\n",
       "    </tr>\n",
       "    <tr>\n",
       "      <th>8</th>\n",
       "      <td>0.425224</td>\n",
       "      <td>0.5</td>\n",
       "      <td>poly</td>\n",
       "      <td>1.000000</td>\n",
       "    </tr>\n",
       "  </tbody>\n",
       "</table>\n",
       "</div>"
      ],
      "text/plain": [
       "   mean_fit_time param_C param_kernel  mean_test_score\n",
       "0       0.206867     0.1       linear         0.999487\n",
       "1       0.714515     0.1          rbf         0.997263\n",
       "2       0.469789     0.1         poly         0.998974\n",
       "3       0.149206     0.3       linear         1.000000\n",
       "4       0.572915     0.3          rbf         0.998974\n",
       "5       0.427823     0.3         poly         1.000000\n",
       "6       0.116077     0.5       linear         1.000000\n",
       "7       0.511751     0.5          rbf         0.999829\n",
       "8       0.425224     0.5         poly         1.000000"
      ]
     },
     "execution_count": 36,
     "metadata": {},
     "output_type": "execute_result"
    }
   ],
   "source": [
    "svm_result = pd.DataFrame(gsc_svm.cv_results_)\n",
    "svm_result[['mean_fit_time', 'param_C', 'param_kernel', 'mean_test_score']]"
   ]
  },
  {
   "cell_type": "code",
   "execution_count": 37,
   "id": "cbaf30c8",
   "metadata": {},
   "outputs": [
    {
     "name": "stdout",
     "output_type": "stream",
     "text": [
      "best SVM parameters are: {'C': 0.3, 'kernel': 'linear'}\n",
      "best SVM score is 1.0\n"
     ]
    }
   ],
   "source": [
    "print('best SVM parameters are:',gsc_svm.best_params_)\n",
    "print('best SVM score is',gsc_svm.best_score_)"
   ]
  },
  {
   "cell_type": "code",
   "execution_count": 38,
   "id": "dcf0f209",
   "metadata": {},
   "outputs": [
    {
     "name": "stdout",
     "output_type": "stream",
     "text": [
      "\n",
      "SVM confusion matrix: \n",
      " [[716   0]\n",
      " [  0 747]]\n",
      "\n",
      "SVM classification report: \n",
      "               precision    recall  f1-score   support\n",
      "\n",
      "   poisonous       1.00      1.00      1.00       716\n",
      "      edible       1.00      1.00      1.00       747\n",
      "\n",
      "    accuracy                           1.00      1463\n",
      "   macro avg       1.00      1.00      1.00      1463\n",
      "weighted avg       1.00      1.00      1.00      1463\n",
      "\n"
     ]
    }
   ],
   "source": [
    "svm = gsc_svm.best_estimator_\n",
    "svm_pred = svm.predict(x_test)\n",
    "print(\"\\nSVM confusion matrix: \\n\",confusion_matrix(y_test, svm_pred))\n",
    "print(\"\\nSVM classification report: \\n\",classification_report(y_test,svm_pred,target_names=class_names))"
   ]
  },
  {
   "cell_type": "markdown",
   "id": "a55528bc",
   "metadata": {},
   "source": [
    "# Classifying the True Test Data"
   ]
  },
  {
   "cell_type": "markdown",
   "id": "21b1ac05",
   "metadata": {},
   "source": [
    "Selecting the Support Vector Classifier as the best model "
   ]
  },
  {
   "cell_type": "code",
   "execution_count": 39,
   "id": "14e51239",
   "metadata": {},
   "outputs": [
    {
     "name": "stdout",
     "output_type": "stream",
     "text": [
      "[0 1 0 1 0 0 0 0 0 0 0 0 1 0 0 0 1 1 1 0 0 0 0 0 1 1 1 0 0 0 0 1 1 0 1 0 1\n",
      " 1 1 1 0 1 0 0 1 1 1 0 1 1 1 0 1 1 1 0 0 1 1 0 1 1 1 0 1 0 0 0 0 0 0 0 1 0\n",
      " 1 1 1 1 1 0 1 0 1 0 1 1 0 1 1 0 1 1 0 0 1 0 1 0 0 1 0 0 1 0 0 0 0 1 1 1 1\n",
      " 1 0 1 1 0 0 1 0 0 0 0 1 0 1 0 1 1 1 0 0 0 1 0 1 0 1 0 1 0 1 0 1 1 0 1 1 0\n",
      " 0 1 0 0 1 0 0 0 0 0 1 1 1 0 0 1 1 1 0 1 0 0 0 1 1 0 1 0 1 1 1 1 0 0 0 1 1\n",
      " 1 0 0 1 1 1 1 0 1 0 1 0 0 1 1 1 1 1 0 1 1 1 0 1 1 0 0 0 0 1 1 0 0 1 1 0 0\n",
      " 0 1 0 1 0 0 1 0 0 1 1 1 1 1 0 1 1 1 0 1 0 1 1 1 0 0 1 1 1 1 0 0 0 0 0 0 0\n",
      " 1 0 1 1 0 1 1 0 1 0 1 0 1 1 1 1 1 0 1 0 1 0 0 1 1 0 1 1 1 1 1 1 0 0 0 0 1\n",
      " 1 0 1 1 1 0 0 1 1 0 1 0 1 0 1 0 1 1 0 0 0 0 1 0 0 1 1 1 1 1 1 1 1 1 1 0 1\n",
      " 1 1 1 0 0 1 1 1 1 0 0 0 1 1 1 1 0 0 0 1 0 1 1 1 1 0 1 1 0 0 1 0 0 0 1 0 1\n",
      " 0 0 0 0 0 0 0 1 1 0 1 0 0 0 0 0 0 0 0 0 1 0 0 1 1 0 0 1 1 1 1 0 1 1 1 1 0\n",
      " 0 1 0 1 1 1 0 0 0 1 0 1 1 1 1 1 1 1 0 0 0 0 1 1 0 0 0 0 1 1 1 1 1 1 1 1 1\n",
      " 0 0 1 0 0 1 1 0 1 0 0 1 0 1 1 0 1 1 1 0 0 0 0 1 1 1 0 0 0 0 0 0 1 0 1 1 0\n",
      " 1 1 1 0 0 0 0 1 0 0 1 0 1 1 0 0 0 1 1 0 1 0 1 0 0 0 0 1 1 1 1 0 0 1 0 0 0\n",
      " 0 1 1 0 1 1 1 0 0 0 1 1 0 0 0 1 0 0 0 1 1 1 1 0 1 1 1 1 1 1 0 1 1 0 1 1 0\n",
      " 1 0 0 1 1 0 1 1 0 1 1 1 1 0 1 1 1 0 1 0 1 0 0 0 0 1 1 1 1 0 1 1 1 1 0 1 0\n",
      " 1 1 0 1 0 0 0 0 0 1 0 0 0 0 0 1 0 1 0 1 1 0 0 0 1 1 1 1 1 1 0 0 1 0 1 0 1\n",
      " 0 0 0 0 0 1 1 0 1 0 0 1 1 0 1 1 1 1 0 0 1 1 0 0 1 1 1 1 1 1 0 0 1 1 0 1 1\n",
      " 1 1 0 0 1 1 1 0 1 1 1 0 0 1 1 0 0 1 0 1 0 0 0 0 1 0 1 0 1 0 0 1 1 0 1 1 1\n",
      " 1 0 0 1 0 0 0 1 1 1 0 0 1 0 1 1 0 1 0 0 0 0 1 0 1 0 0 0 0 1 0 1 1 1 0 1 0\n",
      " 1 0 1 0 0 0 1 1 0 1 0 1 1 1 1 1 0 0 1 0 0 1 0 1 1 0 1 1 1 0 1 0 1 1 0 0 1\n",
      " 0 1 1 0 0 0 0 0 1 0 1 1 0 0 0 1 1 1 0 0 1 0 0 1 1 1 0 0 1 0 0 1 0 1 0 0]\n"
     ]
    }
   ],
   "source": [
    "true_test = pd.get_dummies(true_test)\n",
    "svm = gsc_svm.best_estimator_\n",
    "svm_test_pred = svm.predict(true_test)\n",
    "print(svm_test_pred)"
   ]
  },
  {
   "cell_type": "code",
   "execution_count": 40,
   "id": "ef30e60e",
   "metadata": {},
   "outputs": [],
   "source": [
    "np.savetxt('Mushroom_Class_Labels.txt', svm_test_pred, fmt='%i', delimiter='\\n')"
   ]
  },
  {
   "cell_type": "code",
   "execution_count": null,
   "id": "6fafe446",
   "metadata": {},
   "outputs": [],
   "source": []
  }
 ],
 "metadata": {
  "kernelspec": {
   "display_name": "Python 3 (ipykernel)",
   "language": "python",
   "name": "python3"
  },
  "language_info": {
   "codemirror_mode": {
    "name": "ipython",
    "version": 3
   },
   "file_extension": ".py",
   "mimetype": "text/x-python",
   "name": "python",
   "nbconvert_exporter": "python",
   "pygments_lexer": "ipython3",
   "version": "3.9.13"
  }
 },
 "nbformat": 4,
 "nbformat_minor": 5
}
